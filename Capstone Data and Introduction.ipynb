{
    "cells": [
        {
            "cell_type": "markdown",
            "metadata": {},
            "source": "#  Data Science Capstone Project\n\n## Tracy Wentworth\n\n### Segment Neighborhoods in Manhattan, New York City (NYC), New York against Washington District of Columbia (D.C.) \n\n### Introduction\n\n##### There is a lot of cross-flow between New York City and Washington D.C from the standpoint of people moving between the two cities, for both work and entertainment. Because there is a large transit of people between the two cities, this project concentrates on giving an individual living in a neighborhood in New York City with its different venues an analysis of similiar and dissimiliar Washington D.C. neighborhood venues. This analysis will allow a New Yorker to determine which Washington D.C. neighborhood offers the most similiar venues to their own neighborhood.\n\n###### The answer will help a person moving from New York City to Washington D.C. who is interesting in having similar close-by venues from eating to entertainment, parks, recreation, museums, stores, etc.\n\n##### This project is done through Juypter Notebook, which can be accessed in the Github repository through this link.\n\n##### I note here that New York City (NYC) is divided into boroughs. Washington D.C., however, uses the term \u201cWard\u201d. I am using the term \"Neighborhood\" vice \"Ward\" for the Washington D.C. wards. Washington D.C. actually has 8 wards, named Ward 1 - 8 with a total of 131 neighborhoods across the 8 wards. I will use the Ward 1 - 8 name as the equivalent borough name from New York City. \n\n##### This analysis will compare the similarity / dissimilarities between NYC neighborhoods against the Washington D.C. neighborhoods.\n\n### Data\n\n##### The following data and packages are needed to solve this problem:\n\n##### 1. The New York City borough and neighborhood data is downloaded from the NYU Spatial Data Repository through the following link:\n\n##### [Neighborhoods in New York CIty](https://geo.nyu.edu/catalog/nuy_2451_34572)\n\n##### This data set includes the following information: Borough, Neighborhood, and Latitude and Longitude of each Neighborhood with a total of 5 boroughs and 306 neighborhoods.\n\n##### A sample of the NYC neighborhood data is given below:\n\n\n|   | Borough | Neighborhood | Latitude  | Longitude  |\n|---|---------|--------------|-----------|------------|\n| 0 | Bronx   | Wakefield    | 40.894705 | -73.847201 |\n| 1 | Bronx   | Co-op City   | 40.874294 | -73.829939 |\n| 2 | Bronx   | Eastchester  | 40.887556 | -73.827806 |\n| 3 | Bronx   | FIeldston    | 40.895437 | -73.905643 |\n| 4 | Bronx   | Riverdale    | 40.890834 | -73.912585 |\n\n\n##### 2.  The Washington D.C. list of wards and neighborhoods is pulled from the Wikipedia link:\n\n##### [Neighborhoods in Washington D.C.](https://en.wikipedia.org/wiki/Neighborhoods_in_Washington,_D.C.)\n\n##### The data must be scrapped and reformatted before it can be used and provides the equivalent borough (ward) and neighborhood data. This data does not currently contain latitude or longitude data. Washington D.C. has 8 wards and 127 neighborhoods. \n\n##### The sample date from this website does not have the latitude and longitude provided within the website and I am using the term \u201cBorough\u201d instead of \u201cWard\u201d. The sample data is given below:\n\n|   | Borrough | Neighborhood      |\n|---|----------|-------------------|\n| 0 | Ward 1   | Adams Morgan      |\n| 1 | Ward 1   | Columbia Heights  |\n| 2 | Ward 1   | Howard University |\n| 3 | Ward 1   | Kalorama          |\n| 4 | Ward 1   | LeDroit Park      | \n\n#####  The Python geocoder package will be used to provide the required Washington D.C. neighborhood latitudes and longitudes data for the analysis.\n\n##### The Foursquare API will be used to get the nearby venues by providing the latitude and longitude of the nearby venues for each neighborhood. This analysis will concentrate on eating establishments, shopping, entertainment (theatre), parks and recreation.\n\n##### The data will be mapped and visualized using the Folium package.\n\n##### A k-clustering analysis will be performed to analyze the data clusters to determine where the clusters are similar and dissimilar.\n"
        },
        {
            "cell_type": "code",
            "execution_count": null,
            "metadata": {},
            "outputs": [],
            "source": ""
        }
    ],
    "metadata": {
        "kernelspec": {
            "display_name": "Python 3.6",
            "language": "python",
            "name": "python3"
        },
        "language_info": {
            "codemirror_mode": {
                "name": "ipython",
                "version": 3
            },
            "file_extension": ".py",
            "mimetype": "text/x-python",
            "name": "python",
            "nbconvert_exporter": "python",
            "pygments_lexer": "ipython3",
            "version": "3.6.9"
        }
    },
    "nbformat": 4,
    "nbformat_minor": 1
}